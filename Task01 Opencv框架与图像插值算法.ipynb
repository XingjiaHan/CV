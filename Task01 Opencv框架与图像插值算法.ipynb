{
 "cells": [
  {
   "cell_type": "markdown",
   "metadata": {},
   "source": [
    "### 1.1简介"
   ]
  },
  {
   "cell_type": "markdown",
   "metadata": {},
   "source": [
    "&emsp;&emsp;在图像处理中，平移变换、旋转变换、缩放变换是一些常用操作。这些几何变换几乎不改变图像的像素值，只是在图像平面上进行像素的重新排列。\n",
    "\n",
    "在一副输入图像[u,v]中，灰度值仅在整数位置上有定义。\n",
    "\n",
    "然而，在输出图像[x,y]的灰度值一般由处在非整数坐标上的(u,v)值来决定\n",
    "\n",
    "这就需要插值算法进行处理，常见的插值算法有**近邻插值**、**双线性插值**和**三次样条插值**"
   ]
  },
  {
   "cell_type": "markdown",
   "metadata": {},
   "source": [
    "### 1.2学习目标"
   ]
  },
  {
   "cell_type": "markdown",
   "metadata": {},
   "source": [
    "- 了解插值算法与常见几何变换之间的关系\n",
    "- 理解插值算法的原理\n",
    "- 掌握OpenCV框架下的插值算法API的使用"
   ]
  },
  {
   "cell_type": "markdown",
   "metadata": {},
   "source": [
    "### 1.3内容介绍"
   ]
  },
  {
   "cell_type": "markdown",
   "metadata": {},
   "source": [
    "1、插值算法原理介绍\n",
    "- 最近邻插值算法\n",
    "- 双线性插值算法\n",
    "\n",
    "2、OpenCV代码实践\n",
    "- cv.resize()各项参数及含义\n",
    "\n",
    "3、动手实现"
   ]
  },
  {
   "cell_type": "markdown",
   "metadata": {},
   "source": [
    "### 1.4 算法理论介绍"
   ]
  },
  {
   "cell_type": "markdown",
   "metadata": {},
   "source": [
    "1.4.1最近邻插值"
   ]
  },
  {
   "cell_type": "markdown",
   "metadata": {},
   "source": [
    "最近邻插值，是指将目标图像中的店，对应到源图像中后，找到最相邻的整数点，作为插值后的输出\n",
    "![jupyter](img/1.png)"
   ]
  },
  {
   "cell_type": "markdown",
   "metadata": {},
   "source": [
    "如上图所示，目标图像中的某点投影到原图像中的位置为点P，$f(P) = f(Q_{11})$\n",
    "\n",
    "例子:\n",
    "\n",
    "如下图所示，将一幅3x3的图像放大到4x4，用$f(x,y)$表示目标图像，有以下公式"
   ]
  },
  {
   "cell_type": "markdown",
   "metadata": {},
   "source": [
    "$$ \\begin{array}{c} f(dst{X}, dst{Y}) = h(\\frac{dst{X}src{Width}} {dst{Width}}, \\frac{dst{Y}src{Height}} {dst{Height}}) \\end{array} $$\n",
    "\n",
    "$$ \\begin{array}{c} f(0,0)=h(0,0) \\ f(0,1)=h(0,0.75)=h(0,1) \\ f(0,2)=h(0,1.50)=h(0,2) \\ f(0,3)=h(0,2.25)=h(0,2) \\ ...\\ \\end{array} $$"
   ]
  },
  {
   "cell_type": "markdown",
   "metadata": {},
   "source": [
    "**缺点**：\n",
    "\n",
    "该方法在放大处理时，在图像中会出现明显的块状效应\n",
    "\n",
    "![jupyter](img/2.png)"
   ]
  },
  {
   "cell_type": "markdown",
   "metadata": {},
   "source": [
    "1.4.2 双线性插值"
   ]
  },
  {
   "cell_type": "markdown",
   "metadata": {},
   "source": [
    "线性插值多项式：\n",
    "\n",
    "$$ f(x)=a{1} x+a{0} $$"
   ]
  },
  {
   "cell_type": "markdown",
   "metadata": {},
   "source": [
    "![jupyter](img/3.png)"
   ]
  },
  {
   "cell_type": "markdown",
   "metadata": {},
   "source": [
    "$$ y=y{0}+\\left(x-x{0}\\right) \\frac{y{1}-y{0}}{x{1}-x{0}}=y{0}+\\frac{\\left(x-x{0}\\right) y_{1}-\\left(x-x{0}\\right) y{0}}{x{1}-x{0}} $$"
   ]
  },
  {
   "cell_type": "markdown",
   "metadata": {},
   "source": [
    "双线性插值就是线性插值在二维时的推广,在两个方向上做三次线性插值，具体操作如下图所示："
   ]
  },
  {
   "cell_type": "markdown",
   "metadata": {},
   "source": [
    "![jupyter](img/4.png)"
   ]
  },
  {
   "cell_type": "markdown",
   "metadata": {},
   "source": [
    "令$f(x，y)$为两个变量的函数，其在单位正方形顶点的值已知。假设我们希望通过插值得到正方形内任意点的函数值。则可由双线性方程: $$ f(x, y)=a x+b y+c x y+d $$\n",
    "\n",
    "  来定义的一个双曲抛物面与四个已知点拟合。\n",
    "\n",
    "  首先对上端的两个顶点进行线性插值得：\n",
    "\n",
    "$$ f(x, 0)=f(0,0)+x[f(1,0)-f(0,0)] $$\n",
    "\n",
    "  类似地，再对底端的两个顶点进行线性插值有： $$ f(x, 1)=f(0,1)+x[f(1,1)-f(0,1)] $$\n",
    "\n",
    "  最后，做垂直方向的线性插值，以确定：\n",
    "\n",
    "$$ f(x, y)=f(x, 0)+y[f(x, 1)-f(x, 0)] $$\n",
    "\n",
    "  整理得：\n",
    "\n",
    "$$ \\begin{array}{l} f(x, y)=[f(1,0)-f(0,0)] x+[f(0,1)-f(0,0)] y \\ +[f(1,1)+f(0,0)-f(0,1)-f(1,0)] x y+f(0,0) \\end{array} $$"
   ]
  },
  {
   "cell_type": "markdown",
   "metadata": {},
   "source": [
    "### 1.4.3 映射方法"
   ]
  },
  {
   "cell_type": "markdown",
   "metadata": {},
   "source": [
    "#### 向前映射法"
   ]
  },
  {
   "cell_type": "markdown",
   "metadata": {},
   "source": [
    "可以将几何运算想象成一次一个象素地转移到输出图象中。如果一个输入象素被映射到四个输出象素之间的位置，则其灰度值就按插值算法在4个输出象素之间进行分配。称为向前映射法，或象素移交影射。\n",
    "\n",
    "注：从原图象坐标计算出目标图象坐标镜像、平移变换使用这种计算方法"
   ]
  },
  {
   "cell_type": "markdown",
   "metadata": {},
   "source": [
    "#### 向后映射法"
   ]
  },
  {
   "cell_type": "markdown",
   "metadata": {},
   "source": [
    "向后映射法（或象素填充算法）是输出象素一次一个地映射回到输入象素中，以便确定其灰度级。如果一个输出象素被映射到4个输入象素之间，则其灰度值插值决定，向后空间变换是向前变换的逆。\n",
    "\n",
    "注：从结果图象的坐标计算原图象的坐标\n",
    "\n",
    "旋转、拉伸、放缩可以使用\n",
    "解决了漏点的问题，出现了马赛克"
   ]
  },
  {
   "cell_type": "markdown",
   "metadata": {},
   "source": [
    "### python实践"
   ]
  },
  {
   "cell_type": "markdown",
   "metadata": {},
   "source": [
    "cv2.resize(src, dsize[, dst[, fx[, fy[, interpolation]]]])"
   ]
  },
  {
   "cell_type": "markdown",
   "metadata": {},
   "source": [
    "**函数原型：**\n",
    ">cv2.resize(src, dsize[, dst[, fx[, fy[, interpolation]]]])\n",
    "\n",
    "**参数：**\n",
    "\n",
    "| 参数 | 描述 |\n",
    "|--|--|\n",
    "| src | 【必需】原图像 |\n",
    "| dsize | 【必需】输出图像所需大小 |\n",
    "| fx | 【可选】沿水平轴的比例因子 |\n",
    "| fy | 【可选】沿垂直轴的比例因子 |\n",
    "| interpolation   | 【可选】插值方式 |\n",
    "\n",
    "**插值方式：**\n",
    "\n",
    "|  |  |\n",
    "|--|--|\n",
    "| cv.INTER_NEAREST | 最近邻插值 |\n",
    "| cv.INTER_LINEAR | 双线性插值 |\n",
    "| cv.INTER_CUBIC | 基于4x4像素邻域的3次插值法 |\n",
    "| cv.INTER_AREA | 基于局部像素的重采样 |\n",
    "\n",
    ">通常，缩小使用cv.INTER_AREA，放缩使用cv.INTER_CUBIC(较慢)和cv.INTER_LINEAR(较快效果也不错)。默认情况下，所有的放缩都使用cv.INTER_LINEAR。\n",
    "\n",
    "**代码实践：**"
   ]
  },
  {
   "cell_type": "code",
   "execution_count": 7,
   "metadata": {},
   "outputs": [],
   "source": []
  },
  {
   "cell_type": "code",
   "execution_count": 9,
   "metadata": {},
   "outputs": [
    {
     "name": "stdout",
     "output_type": "stream",
     "text": [
      "Original Dimensions :  (1200, 801, 3)\n",
      "Resized Dimensions :  (360, 240, 3)\n"
     ]
    }
   ],
   "source": [
    "import cv2\n",
    "\n",
    "img = cv2.imread('img/meizi.jpeg')\n",
    "print('Original Dimensions : ',img.shape)\n",
    "\n",
    "scale_percent = 30       # percent of original size\n",
    "width = int(img.shape[1] * scale_percent / 100)\n",
    "height = int(img.shape[0] * scale_percent / 100)\n",
    "dim = (width, height)\n",
    "# resize image\n",
    "resized = cv2.resize(img, dim, interpolation = cv2.INTER_LINEAR)\n",
    "\n",
    "fx = 1.5\n",
    "fy = 1.5\n",
    "\n",
    "resized1 = cv2.resize(resized, dsize=None, fx=fx, fy=fy, interpolation = cv2.INTER_NEAREST)\n",
    "\n",
    "resized2 = cv2.resize(resized, dsize=None, fx=fx, fy=fy, interpolation = cv2.INTER_LINEAR)\n",
    "print('Resized Dimensions : ',resized.shape)\n",
    "\n",
    "cv2.imshow(\"Resized image\", resized)\n",
    "cv2.imshow(\"INTER_NEAREST image\", resized1)\n",
    "cv2.imshow(\"INTER_LINEAR image\", resized2)\n",
    "cv2.waitKey(0)\n",
    "cv2.destroyAllWindows()\n"
   ]
  },
  {
   "cell_type": "markdown",
   "metadata": {},
   "source": [
    "原图像：\n",
    "![jupyter](img/meizi.jpeg)"
   ]
  },
  {
   "cell_type": "markdown",
   "metadata": {},
   "source": [
    "缩小![jupyter](img/5.png)"
   ]
  },
  {
   "cell_type": "markdown",
   "metadata": {},
   "source": [
    "近邻插值\n",
    "![jupyter](img/7.png)"
   ]
  },
  {
   "cell_type": "markdown",
   "metadata": {},
   "source": [
    "线性插值![jupyter](img/6.png)"
   ]
  },
  {
   "cell_type": "code",
   "execution_count": null,
   "metadata": {},
   "outputs": [],
   "source": []
  }
 ],
 "metadata": {
  "kernelspec": {
   "display_name": "Python 3",
   "language": "python",
   "name": "python3"
  },
  "language_info": {
   "codemirror_mode": {
    "name": "ipython",
    "version": 3
   },
   "file_extension": ".py",
   "mimetype": "text/x-python",
   "name": "python",
   "nbconvert_exporter": "python",
   "pygments_lexer": "ipython3",
   "version": "3.6.2"
  }
 },
 "nbformat": 4,
 "nbformat_minor": 4
}
